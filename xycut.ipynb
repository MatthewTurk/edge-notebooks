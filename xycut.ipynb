{
 "cells": [
  {
   "cell_type": "code",
   "execution_count": 1,
   "metadata": {
    "collapsed": true
   },
   "outputs": [],
   "source": [
    "import numpy as np\n",
    "from IPython.core.display import Image\n",
    "from os import listdir\n",
    "\n",
    "from scipy.interpolate import interp1d\n",
    "from astropy.io import fits"
   ]
  },
  {
   "cell_type": "code",
   "execution_count": 2,
   "metadata": {
    "collapsed": true
   },
   "outputs": [],
   "source": [
    "# the directory (folder) where all the CO fits files are\n",
    "path_co='/Volumes/Transcend/R_Tony/cmnorm_kelvin/'\n",
    "# the folder where you want to save the cut files\n",
    "path_save='/Volumes/Transcend/R_Tony/cut_co/'"
   ]
  },
  {
   "cell_type": "code",
   "execution_count": 3,
   "metadata": {
    "collapsed": true
   },
   "outputs": [],
   "source": [
    "def xycut(filename):\n",
    "    dataname=path_co+filename\n",
    "    data=fits.getdata(dataname)\n",
    "    header=fits.getheader(dataname)\n",
    "    datac=data[0]\n",
    "    obj=header['object'].strip()\n",
    "    \n",
    "    cx=header['crpix1']\n",
    "    cy=header['crpix2']\n",
    "    \n",
    "    arrx1=np.arange(0,cx-63)\n",
    "    arry1=np.arange(0,cy-63)\n",
    "\n",
    "    dataf1=np.delete(datac, arrx1, 2)\n",
    "    dataf2=np.delete(dataf1, np.arange(128,len(dataf1[0,1])), 2)\n",
    "    dataf3=np.delete(dataf2, arry1, 1)\n",
    "    dataf4=np.delete(dataf3, np.arange(128, len(dataf3[0])), 1)\n",
    "    \n",
    "    header['crpix1']=65\n",
    "    header['crpix2']=65\n",
    "    \n",
    "    fits.writeto(path_save+obj+'.co.xycut.K.fits', dataf4, header)"
   ]
  },
  {
   "cell_type": "code",
   "execution_count": 4,
   "metadata": {},
   "outputs": [
    {
     "data": {
      "text/plain": [
       "126"
      ]
     },
     "execution_count": 4,
     "metadata": {},
     "output_type": "execute_result"
    }
   ],
   "source": [
    "filelist=listdir(path_co)\n",
    "for i in filelist:\n",
    "    if i.startswith('.'):\n",
    "        filelist.remove(i)\n",
    "len(filelist)"
   ]
  },
  {
   "cell_type": "code",
   "execution_count": 4,
   "metadata": {},
   "outputs": [
    {
     "data": {
      "text/plain": [
       "['ARP220.co.cmnorm.K.fits',\n",
       " 'IC0480.co.cmnorm.K.fits',\n",
       " 'IC0540.co.cmnorm.K.fits',\n",
       " 'IC0944.co.cmnorm.K.fits',\n",
       " 'IC1151.co.cmnorm.K.fits',\n",
       " 'IC1199.co.cmnorm.K.fits',\n",
       " 'IC1683.co.cmnorm.K.fits',\n",
       " 'IC2247.co.cmnorm.K.fits',\n",
       " 'IC2487.co.cmnorm.K.fits',\n",
       " 'IC4566.co.cmnorm.K.fits',\n",
       " 'IC5376.co.cmnorm.K.fits',\n",
       " 'NGC0444.co.cmnorm.K.fits',\n",
       " 'NGC0447.co.cmnorm.K.fits',\n",
       " 'NGC0477.co.cmnorm.K.fits',\n",
       " 'NGC0496.co.cmnorm.K.fits',\n",
       " 'NGC0523.co.cmnorm.K.fits',\n",
       " 'NGC0528.co.cmnorm.K.fits',\n",
       " 'NGC0551.co.cmnorm.K.fits',\n",
       " 'NGC1167.co.cmnorm.K.fits',\n",
       " 'NGC2253.co.cmnorm.K.fits',\n",
       " 'NGC2347.co.cmnorm.K.fits',\n",
       " 'NGC2410.co.cmnorm.K.fits',\n",
       " 'NGC2480.co.cmnorm.K.fits',\n",
       " 'NGC2486.co.cmnorm.K.fits',\n",
       " 'NGC2487.co.cmnorm.K.fits',\n",
       " 'NGC2623.co.cmnorm.K.fits',\n",
       " 'NGC2639.co.cmnorm.K.fits',\n",
       " 'NGC2730.co.cmnorm.K.fits',\n",
       " 'NGC2880.co.cmnorm.K.fits',\n",
       " 'NGC2906.co.cmnorm.K.fits',\n",
       " 'NGC2916.co.cmnorm.K.fits',\n",
       " 'NGC2918.co.cmnorm.K.fits',\n",
       " 'NGC3303.co.cmnorm.K.fits',\n",
       " 'NGC3381.co.cmnorm.K.fits',\n",
       " 'NGC3687.co.cmnorm.K.fits',\n",
       " 'NGC3811.co.cmnorm.K.fits',\n",
       " 'NGC3815.co.cmnorm.K.fits',\n",
       " 'NGC3994.co.cmnorm.K.fits',\n",
       " 'NGC4047.co.cmnorm.K.fits',\n",
       " 'NGC4149.co.cmnorm.K.fits',\n",
       " 'NGC4185.co.cmnorm.K.fits',\n",
       " 'NGC4210.co.cmnorm.K.fits',\n",
       " 'NGC4211NED02.co.cmnorm.K.fits',\n",
       " 'NGC4470.co.cmnorm.K.fits',\n",
       " 'NGC4644.co.cmnorm.K.fits',\n",
       " 'NGC4676A.co.cmnorm.K.fits',\n",
       " 'NGC4711.co.cmnorm.K.fits',\n",
       " 'NGC4961.co.cmnorm.K.fits',\n",
       " 'NGC5000.co.cmnorm.K.fits',\n",
       " 'NGC5016.co.cmnorm.K.fits',\n",
       " 'NGC5056.co.cmnorm.K.fits',\n",
       " 'NGC5205.co.cmnorm.K.fits',\n",
       " 'NGC5218.co.cmnorm.K.fits',\n",
       " 'NGC5394.co.cmnorm.K.fits',\n",
       " 'NGC5406.co.cmnorm.K.fits',\n",
       " 'NGC5480.co.cmnorm.K.fits',\n",
       " 'NGC5485.co.cmnorm.K.fits',\n",
       " 'NGC5520.co.cmnorm.K.fits',\n",
       " 'NGC5614.co.cmnorm.K.fits',\n",
       " 'NGC5633.co.cmnorm.K.fits',\n",
       " 'NGC5657.co.cmnorm.K.fits',\n",
       " 'NGC5682.co.cmnorm.K.fits',\n",
       " 'NGC5732.co.cmnorm.K.fits',\n",
       " 'NGC5784.co.cmnorm.K.fits',\n",
       " 'NGC5876.co.cmnorm.K.fits',\n",
       " 'NGC5908.co.cmnorm.K.fits',\n",
       " 'NGC5930.co.cmnorm.K.fits',\n",
       " 'NGC5934.co.cmnorm.K.fits',\n",
       " 'NGC5947.co.cmnorm.K.fits',\n",
       " 'NGC5953.co.cmnorm.K.fits',\n",
       " 'NGC5980.co.cmnorm.K.fits',\n",
       " 'NGC6004.co.cmnorm.K.fits',\n",
       " 'NGC6021.co.cmnorm.K.fits',\n",
       " 'NGC6027.co.cmnorm.K.fits',\n",
       " 'NGC6060.co.cmnorm.K.fits',\n",
       " 'NGC6063.co.cmnorm.K.fits',\n",
       " 'NGC6081.co.cmnorm.K.fits',\n",
       " 'NGC6125.co.cmnorm.K.fits',\n",
       " 'NGC6146.co.cmnorm.K.fits',\n",
       " 'NGC6155.co.cmnorm.K.fits',\n",
       " 'NGC6168.co.cmnorm.K.fits',\n",
       " 'NGC6186.co.cmnorm.K.fits',\n",
       " 'NGC6301.co.cmnorm.K.fits',\n",
       " 'NGC6310.co.cmnorm.K.fits',\n",
       " 'NGC6314.co.cmnorm.K.fits',\n",
       " 'NGC6361.co.cmnorm.K.fits',\n",
       " 'NGC6394.co.cmnorm.K.fits',\n",
       " 'NGC6478.co.cmnorm.K.fits',\n",
       " 'NGC7738.co.cmnorm.K.fits',\n",
       " 'NGC7819.co.cmnorm.K.fits',\n",
       " 'UGC00809.co.cmnorm.K.fits',\n",
       " 'UGC03253.co.cmnorm.K.fits',\n",
       " 'UGC03539.co.cmnorm.K.fits',\n",
       " 'UGC03969.co.cmnorm.K.fits',\n",
       " 'UGC03973.co.cmnorm.K.fits',\n",
       " 'UGC04029.co.cmnorm.K.fits',\n",
       " 'UGC04132.co.cmnorm.K.fits',\n",
       " 'UGC04280.co.cmnorm.K.fits',\n",
       " 'UGC04461.co.cmnorm.K.fits',\n",
       " 'UGC05108.co.cmnorm.K.fits',\n",
       " 'UGC05111.co.cmnorm.K.fits',\n",
       " 'UGC05244.co.cmnorm.K.fits',\n",
       " 'UGC05359.co.cmnorm.K.fits',\n",
       " 'UGC05498NED01.co.cmnorm.K.fits',\n",
       " 'UGC05598.co.cmnorm.K.fits',\n",
       " 'UGC06312.co.cmnorm.K.fits',\n",
       " 'UGC07012.co.cmnorm.K.fits',\n",
       " 'UGC08107.co.cmnorm.K.fits',\n",
       " 'UGC08250.co.cmnorm.K.fits',\n",
       " 'UGC08267.co.cmnorm.K.fits',\n",
       " 'UGC09067.co.cmnorm.K.fits',\n",
       " 'UGC09476.co.cmnorm.K.fits',\n",
       " 'UGC09537.co.cmnorm.K.fits',\n",
       " 'UGC09542.co.cmnorm.K.fits',\n",
       " 'UGC09665.co.cmnorm.K.fits',\n",
       " 'UGC09759.co.cmnorm.K.fits',\n",
       " 'UGC09873.co.cmnorm.K.fits',\n",
       " 'UGC09892.co.cmnorm.K.fits',\n",
       " 'UGC09919.co.cmnorm.K.fits',\n",
       " 'UGC10043.co.cmnorm.K.fits',\n",
       " 'UGC10123.co.cmnorm.K.fits',\n",
       " 'UGC10205.co.cmnorm.K.fits',\n",
       " 'UGC10331.co.cmnorm.K.fits',\n",
       " 'UGC10380.co.cmnorm.K.fits',\n",
       " 'UGC10384.co.cmnorm.K.fits',\n",
       " 'UGC10710.co.cmnorm.K.fits']"
      ]
     },
     "execution_count": 4,
     "metadata": {},
     "output_type": "execute_result"
    }
   ],
   "source": [
    "filelist"
   ]
  },
  {
   "cell_type": "code",
   "execution_count": 16,
   "metadata": {},
   "outputs": [
    {
     "name": "stderr",
     "output_type": "stream",
     "text": [
      "WARNING: VerifyWarning: Invalid 'BLANK' keyword in header.  The 'BLANK' keyword is only applicable to integer data, and will be ignored in this HDU. [astropy.io.fits.hdu.image]\n",
      "//anaconda/lib/python3.5/site-packages/ipykernel/__main__.py:14: DeprecationWarning: using a non-integer array as obj in delete will result in an error in the future\n",
      "//anaconda/lib/python3.5/site-packages/ipykernel/__main__.py:16: DeprecationWarning: using a non-integer array as obj in delete will result in an error in the future\n"
     ]
    }
   ],
   "source": [
    "for i in filelist:\n",
    "    xycut(i)"
   ]
  },
  {
   "cell_type": "code",
   "execution_count": null,
   "metadata": {
    "collapsed": true
   },
   "outputs": [],
   "source": []
  }
 ],
 "metadata": {
  "kernelspec": {
   "display_name": "Python [conda root]",
   "language": "python",
   "name": "conda-root-py"
  },
  "language_info": {
   "codemirror_mode": {
    "name": "ipython",
    "version": 3
   },
   "file_extension": ".py",
   "mimetype": "text/x-python",
   "name": "python",
   "nbconvert_exporter": "python",
   "pygments_lexer": "ipython3",
   "version": "3.5.3"
  }
 },
 "nbformat": 4,
 "nbformat_minor": 2
}
